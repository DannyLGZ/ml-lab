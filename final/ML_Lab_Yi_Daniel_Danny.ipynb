{
 "cells": [
  {
   "cell_type": "markdown",
   "metadata": {},
   "source": [
    "- The data comes from a global e-retailer company, including orders from 2012 to 2015. Import the **Orders** dataset and do some basic EDA. \n",
    "- For problem 1 to 3, we mainly focus on data cleaning and data visualizations. You can use all the packages that you are familiar with to conduct some plots and also provide **brief interpretations** about your findings.\n",
    "\n",
    "### Part I: Preprocessing and EDA\n",
    "\n",
    "- The data comes from a global e-retailer company, including orders from 2012 to 2015. Import the **Orders** dataset and do some basic EDA. \n",
    "- For problem 1 to 3, we mainly focus on data cleaning and data visualizations. You can use all the packages that you are familiar with to conduct some plots and also provide **brief interpretations** about your findings."
   ]
  },
  {
   "cell_type": "code",
   "execution_count": 1,
   "metadata": {},
   "outputs": [],
   "source": [
    "import pandas as pd\n",
    "import numpy as np"
   ]
  },
  {
   "cell_type": "code",
   "execution_count": 2,
   "metadata": {},
   "outputs": [],
   "source": [
    "orders = pd.read_csv('../data/Orders.csv')\n",
    "returns = pd.read_csv('../data/Returns.csv')"
   ]
  },
  {
   "cell_type": "markdown",
   "metadata": {},
   "source": [
    "#### Problem 1: Dataset Import & Cleaning\n",
    "Check **\"Profit\"** and **\"Sales\"** in the dataset, convert these two columns to numeric type. "
   ]
  },
  {
   "cell_type": "code",
   "execution_count": 3,
   "metadata": {},
   "outputs": [],
   "source": [
    "orders['Sales'] = orders['Sales'].str.replace('$', '')\n",
    "orders['Sales'] = orders['Sales'].str.replace(',', '')\n",
    "orders['Profit'] = orders['Profit'].str.replace('$', '')\n",
    "orders['Profit'] = orders['Profit'].str.replace(',', '')"
   ]
  },
  {
   "cell_type": "code",
   "execution_count": 4,
   "metadata": {},
   "outputs": [],
   "source": [
    "orders['Sales'] = orders['Sales'].astype('float')\n",
    "orders['Profit'] = orders['Profit'].astype('float')"
   ]
  },
  {
   "cell_type": "code",
   "execution_count": 5,
   "metadata": {},
   "outputs": [
    {
     "data": {
      "text/html": [
       "<div>\n",
       "<style scoped>\n",
       "    .dataframe tbody tr th:only-of-type {\n",
       "        vertical-align: middle;\n",
       "    }\n",
       "\n",
       "    .dataframe tbody tr th {\n",
       "        vertical-align: top;\n",
       "    }\n",
       "\n",
       "    .dataframe thead th {\n",
       "        text-align: right;\n",
       "    }\n",
       "</style>\n",
       "<table border=\"1\" class=\"dataframe\">\n",
       "  <thead>\n",
       "    <tr style=\"text-align: right;\">\n",
       "      <th></th>\n",
       "      <th>Row.ID</th>\n",
       "      <th>Order.ID</th>\n",
       "      <th>Order.Date</th>\n",
       "      <th>Ship.Date</th>\n",
       "      <th>Ship.Mode</th>\n",
       "      <th>Customer.ID</th>\n",
       "      <th>Customer.Name</th>\n",
       "      <th>Segment</th>\n",
       "      <th>Postal.Code</th>\n",
       "      <th>City</th>\n",
       "      <th>...</th>\n",
       "      <th>Product.ID</th>\n",
       "      <th>Category</th>\n",
       "      <th>Sub.Category</th>\n",
       "      <th>Product.Name</th>\n",
       "      <th>Sales</th>\n",
       "      <th>Quantity</th>\n",
       "      <th>Discount</th>\n",
       "      <th>Profit</th>\n",
       "      <th>Shipping.Cost</th>\n",
       "      <th>Order.Priority</th>\n",
       "    </tr>\n",
       "  </thead>\n",
       "  <tbody>\n",
       "    <tr>\n",
       "      <th>0</th>\n",
       "      <td>40098</td>\n",
       "      <td>CA-2014-AB10015140-41954</td>\n",
       "      <td>11/11/14</td>\n",
       "      <td>11/13/14</td>\n",
       "      <td>First Class</td>\n",
       "      <td>AB-100151402</td>\n",
       "      <td>Aaron Bergman</td>\n",
       "      <td>Consumer</td>\n",
       "      <td>73120.0</td>\n",
       "      <td>Oklahoma City</td>\n",
       "      <td>...</td>\n",
       "      <td>TEC-PH-5816</td>\n",
       "      <td>Technology</td>\n",
       "      <td>Phones</td>\n",
       "      <td>Samsung Convoy 3</td>\n",
       "      <td>221.98</td>\n",
       "      <td>2</td>\n",
       "      <td>0.0</td>\n",
       "      <td>62.15</td>\n",
       "      <td>40.77</td>\n",
       "      <td>High</td>\n",
       "    </tr>\n",
       "    <tr>\n",
       "      <th>1</th>\n",
       "      <td>26341</td>\n",
       "      <td>IN-2014-JR162107-41675</td>\n",
       "      <td>2/5/14</td>\n",
       "      <td>2/7/14</td>\n",
       "      <td>Second Class</td>\n",
       "      <td>JR-162107</td>\n",
       "      <td>Justin Ritter</td>\n",
       "      <td>Corporate</td>\n",
       "      <td>NaN</td>\n",
       "      <td>Wollongong</td>\n",
       "      <td>...</td>\n",
       "      <td>FUR-CH-5379</td>\n",
       "      <td>Furniture</td>\n",
       "      <td>Chairs</td>\n",
       "      <td>Novimex Executive Leather Armchair, Black</td>\n",
       "      <td>3709.40</td>\n",
       "      <td>9</td>\n",
       "      <td>0.1</td>\n",
       "      <td>-288.77</td>\n",
       "      <td>923.63</td>\n",
       "      <td>Critical</td>\n",
       "    </tr>\n",
       "    <tr>\n",
       "      <th>2</th>\n",
       "      <td>25330</td>\n",
       "      <td>IN-2014-CR127307-41929</td>\n",
       "      <td>10/17/14</td>\n",
       "      <td>10/18/14</td>\n",
       "      <td>First Class</td>\n",
       "      <td>CR-127307</td>\n",
       "      <td>Craig Reiter</td>\n",
       "      <td>Consumer</td>\n",
       "      <td>NaN</td>\n",
       "      <td>Brisbane</td>\n",
       "      <td>...</td>\n",
       "      <td>TEC-PH-5356</td>\n",
       "      <td>Technology</td>\n",
       "      <td>Phones</td>\n",
       "      <td>Nokia Smart Phone, with Caller ID</td>\n",
       "      <td>5175.17</td>\n",
       "      <td>9</td>\n",
       "      <td>0.1</td>\n",
       "      <td>919.97</td>\n",
       "      <td>915.49</td>\n",
       "      <td>Medium</td>\n",
       "    </tr>\n",
       "  </tbody>\n",
       "</table>\n",
       "<p>3 rows × 24 columns</p>\n",
       "</div>"
      ],
      "text/plain": [
       "   Row.ID                  Order.ID Order.Date Ship.Date     Ship.Mode  \\\n",
       "0   40098  CA-2014-AB10015140-41954   11/11/14  11/13/14   First Class   \n",
       "1   26341    IN-2014-JR162107-41675     2/5/14    2/7/14  Second Class   \n",
       "2   25330    IN-2014-CR127307-41929   10/17/14  10/18/14   First Class   \n",
       "\n",
       "    Customer.ID  Customer.Name    Segment  Postal.Code           City  ...  \\\n",
       "0  AB-100151402  Aaron Bergman   Consumer      73120.0  Oklahoma City  ...   \n",
       "1     JR-162107  Justin Ritter  Corporate          NaN     Wollongong  ...   \n",
       "2     CR-127307   Craig Reiter   Consumer          NaN       Brisbane  ...   \n",
       "\n",
       "    Product.ID    Category Sub.Category  \\\n",
       "0  TEC-PH-5816  Technology       Phones   \n",
       "1  FUR-CH-5379   Furniture       Chairs   \n",
       "2  TEC-PH-5356  Technology       Phones   \n",
       "\n",
       "                                Product.Name    Sales Quantity Discount  \\\n",
       "0                           Samsung Convoy 3   221.98        2      0.0   \n",
       "1  Novimex Executive Leather Armchair, Black  3709.40        9      0.1   \n",
       "2          Nokia Smart Phone, with Caller ID  5175.17        9      0.1   \n",
       "\n",
       "   Profit  Shipping.Cost  Order.Priority  \n",
       "0   62.15          40.77            High  \n",
       "1 -288.77         923.63        Critical  \n",
       "2  919.97         915.49          Medium  \n",
       "\n",
       "[3 rows x 24 columns]"
      ]
     },
     "execution_count": 5,
     "metadata": {},
     "output_type": "execute_result"
    }
   ],
   "source": [
    "orders.head(3)"
   ]
  },
  {
   "cell_type": "markdown",
   "metadata": {},
   "source": [
    "#### Problem 2: Inventory Management\n",
    "- Retailers that depend on seasonal shoppers have a particularly challenging job when it comes to inventory management. Your manager is making plans for next year's inventory.\n",
    "- He wants you to answer the following questions:\n",
    "    1. Is there any seasonal trend of inventory in the company?\n",
    "    2. Is the seasonal trend the same for different categories?"
   ]
  },
  {
   "cell_type": "code",
<<<<<<< HEAD
   "execution_count": 12,
=======
   "execution_count": 6,
   "metadata": {},
   "outputs": [],
   "source": [
    "orders['Order.Date'] = pd.to_datetime(orders['Order.Date'])"
   ]
  },
  {
   "cell_type": "code",
   "execution_count": 7,
>>>>>>> upstream/main
   "metadata": {},
   "outputs": [
    {
     "data": {
      "text/html": [
       "<div>\n",
       "<style scoped>\n",
       "    .dataframe tbody tr th:only-of-type {\n",
       "        vertical-align: middle;\n",
       "    }\n",
       "\n",
       "    .dataframe tbody tr th {\n",
       "        vertical-align: top;\n",
       "    }\n",
       "\n",
       "    .dataframe thead th {\n",
       "        text-align: right;\n",
       "    }\n",
       "</style>\n",
       "<table border=\"1\" class=\"dataframe\">\n",
       "  <thead>\n",
       "    <tr style=\"text-align: right;\">\n",
       "      <th></th>\n",
       "      <th>Row.ID</th>\n",
       "      <th>Order.ID</th>\n",
       "      <th>Order.Date</th>\n",
       "      <th>Ship.Date</th>\n",
       "      <th>Ship.Mode</th>\n",
       "      <th>Customer.ID</th>\n",
       "      <th>Customer.Name</th>\n",
       "      <th>Segment</th>\n",
       "      <th>Postal.Code</th>\n",
       "      <th>City</th>\n",
       "      <th>...</th>\n",
       "      <th>Product.ID</th>\n",
       "      <th>Category</th>\n",
       "      <th>Sub.Category</th>\n",
       "      <th>Product.Name</th>\n",
       "      <th>Sales</th>\n",
       "      <th>Quantity</th>\n",
       "      <th>Discount</th>\n",
       "      <th>Profit</th>\n",
       "      <th>Shipping.Cost</th>\n",
       "      <th>Order.Priority</th>\n",
       "    </tr>\n",
       "  </thead>\n",
       "  <tbody>\n",
       "    <tr>\n",
       "      <th>0</th>\n",
       "      <td>40098</td>\n",
       "      <td>CA-2014-AB10015140-41954</td>\n",
       "      <td>2014-11-11</td>\n",
       "      <td>11/13/14</td>\n",
       "      <td>First Class</td>\n",
       "      <td>AB-100151402</td>\n",
       "      <td>Aaron Bergman</td>\n",
       "      <td>Consumer</td>\n",
       "      <td>73120.0</td>\n",
       "      <td>Oklahoma City</td>\n",
       "      <td>...</td>\n",
       "      <td>TEC-PH-5816</td>\n",
       "      <td>Technology</td>\n",
       "      <td>Phones</td>\n",
       "      <td>Samsung Convoy 3</td>\n",
       "      <td>221.98</td>\n",
       "      <td>2</td>\n",
       "      <td>0.0</td>\n",
       "      <td>62.15</td>\n",
       "      <td>40.770</td>\n",
       "      <td>High</td>\n",
       "    </tr>\n",
       "    <tr>\n",
       "      <th>1</th>\n",
       "      <td>26341</td>\n",
       "      <td>IN-2014-JR162107-41675</td>\n",
       "      <td>2014-02-05</td>\n",
       "      <td>2/7/14</td>\n",
       "      <td>Second Class</td>\n",
       "      <td>JR-162107</td>\n",
       "      <td>Justin Ritter</td>\n",
       "      <td>Corporate</td>\n",
       "      <td>NaN</td>\n",
       "      <td>Wollongong</td>\n",
       "      <td>...</td>\n",
       "      <td>FUR-CH-5379</td>\n",
       "      <td>Furniture</td>\n",
       "      <td>Chairs</td>\n",
       "      <td>Novimex Executive Leather Armchair, Black</td>\n",
       "      <td>3709.40</td>\n",
       "      <td>9</td>\n",
       "      <td>0.1</td>\n",
       "      <td>-288.77</td>\n",
       "      <td>923.630</td>\n",
       "      <td>Critical</td>\n",
       "    </tr>\n",
       "    <tr>\n",
       "      <th>2</th>\n",
       "      <td>25330</td>\n",
       "      <td>IN-2014-CR127307-41929</td>\n",
       "      <td>2014-10-17</td>\n",
       "      <td>10/18/14</td>\n",
       "      <td>First Class</td>\n",
       "      <td>CR-127307</td>\n",
       "      <td>Craig Reiter</td>\n",
       "      <td>Consumer</td>\n",
       "      <td>NaN</td>\n",
       "      <td>Brisbane</td>\n",
       "      <td>...</td>\n",
       "      <td>TEC-PH-5356</td>\n",
       "      <td>Technology</td>\n",
       "      <td>Phones</td>\n",
       "      <td>Nokia Smart Phone, with Caller ID</td>\n",
       "      <td>5175.17</td>\n",
       "      <td>9</td>\n",
       "      <td>0.1</td>\n",
       "      <td>919.97</td>\n",
       "      <td>915.490</td>\n",
       "      <td>Medium</td>\n",
       "    </tr>\n",
<<<<<<< HEAD
       "    <tr>\n",
       "      <th>3</th>\n",
       "      <td>13524</td>\n",
       "      <td>ES-2014-KM1637548-41667</td>\n",
       "      <td>2014-01-28</td>\n",
       "      <td>1/30/14</td>\n",
       "      <td>First Class</td>\n",
       "      <td>KM-1637548</td>\n",
       "      <td>Katherine Murray</td>\n",
       "      <td>Home Office</td>\n",
       "      <td>NaN</td>\n",
       "      <td>Berlin</td>\n",
       "      <td>...</td>\n",
       "      <td>TEC-PH-5267</td>\n",
       "      <td>Technology</td>\n",
       "      <td>Phones</td>\n",
       "      <td>Motorola Smart Phone, Cordless</td>\n",
       "      <td>2892.51</td>\n",
       "      <td>5</td>\n",
       "      <td>0.1</td>\n",
       "      <td>-96.54</td>\n",
       "      <td>910.160</td>\n",
       "      <td>Medium</td>\n",
       "    </tr>\n",
       "    <tr>\n",
       "      <th>4</th>\n",
       "      <td>47221</td>\n",
       "      <td>SG-2014-RH9495111-41948</td>\n",
       "      <td>2014-11-05</td>\n",
       "      <td>11/6/14</td>\n",
       "      <td>Same Day</td>\n",
       "      <td>RH-9495111</td>\n",
       "      <td>Rick Hansen</td>\n",
       "      <td>Consumer</td>\n",
       "      <td>NaN</td>\n",
       "      <td>Dakar</td>\n",
       "      <td>...</td>\n",
       "      <td>TEC-CO-6011</td>\n",
       "      <td>Technology</td>\n",
       "      <td>Copiers</td>\n",
       "      <td>Sharp Wireless Fax, High-Speed</td>\n",
       "      <td>2832.96</td>\n",
       "      <td>8</td>\n",
       "      <td>0.0</td>\n",
       "      <td>311.52</td>\n",
       "      <td>903.040</td>\n",
       "      <td>Critical</td>\n",
       "    </tr>\n",
       "    <tr>\n",
       "      <th>...</th>\n",
       "      <td>...</td>\n",
       "      <td>...</td>\n",
       "      <td>...</td>\n",
       "      <td>...</td>\n",
       "      <td>...</td>\n",
       "      <td>...</td>\n",
       "      <td>...</td>\n",
       "      <td>...</td>\n",
       "      <td>...</td>\n",
       "      <td>...</td>\n",
       "      <td>...</td>\n",
       "      <td>...</td>\n",
       "      <td>...</td>\n",
       "      <td>...</td>\n",
       "      <td>...</td>\n",
       "      <td>...</td>\n",
       "      <td>...</td>\n",
       "      <td>...</td>\n",
       "      <td>...</td>\n",
       "      <td>...</td>\n",
       "      <td>...</td>\n",
       "    </tr>\n",
       "    <tr>\n",
       "      <th>51285</th>\n",
       "      <td>29002</td>\n",
       "      <td>IN-2015-KE1642066-42174</td>\n",
       "      <td>2015-06-19</td>\n",
       "      <td>6/19/15</td>\n",
       "      <td>Same Day</td>\n",
       "      <td>KE-1642066</td>\n",
       "      <td>Katrina Edelman</td>\n",
       "      <td>Corporate</td>\n",
       "      <td>NaN</td>\n",
       "      <td>Kure</td>\n",
       "      <td>...</td>\n",
       "      <td>OFF-FA-3072</td>\n",
       "      <td>Office Supplies</td>\n",
       "      <td>Fasteners</td>\n",
       "      <td>Advantus Thumb Tacks, 12 Pack</td>\n",
       "      <td>65.10</td>\n",
       "      <td>5</td>\n",
       "      <td>0.0</td>\n",
       "      <td>4.50</td>\n",
       "      <td>1.010</td>\n",
       "      <td>Medium</td>\n",
       "    </tr>\n",
       "    <tr>\n",
       "      <th>51286</th>\n",
       "      <td>34337</td>\n",
       "      <td>US-2014-ZD21925140-41765</td>\n",
       "      <td>2014-05-06</td>\n",
       "      <td>5/10/14</td>\n",
       "      <td>Standard Class</td>\n",
       "      <td>ZD-219251408</td>\n",
       "      <td>Zuschuss Donatelli</td>\n",
       "      <td>Consumer</td>\n",
       "      <td>37421.0</td>\n",
       "      <td>Chattanooga</td>\n",
       "      <td>...</td>\n",
       "      <td>FUR-FU-4070</td>\n",
       "      <td>Furniture</td>\n",
       "      <td>Furnishings</td>\n",
       "      <td>Eldon Image Series Desk Accessories, Burgundy</td>\n",
       "      <td>16.72</td>\n",
       "      <td>5</td>\n",
       "      <td>0.2</td>\n",
       "      <td>3.34</td>\n",
       "      <td>1.930</td>\n",
       "      <td>High</td>\n",
       "    </tr>\n",
       "    <tr>\n",
       "      <th>51287</th>\n",
       "      <td>31315</td>\n",
       "      <td>CA-2012-ZD21925140-41147</td>\n",
       "      <td>2012-08-26</td>\n",
       "      <td>8/31/12</td>\n",
       "      <td>Second Class</td>\n",
       "      <td>ZD-219251404</td>\n",
       "      <td>Zuschuss Donatelli</td>\n",
       "      <td>Consumer</td>\n",
       "      <td>94109.0</td>\n",
       "      <td>San Francisco</td>\n",
       "      <td>...</td>\n",
       "      <td>OFF-AR-5321</td>\n",
       "      <td>Office Supplies</td>\n",
       "      <td>Art</td>\n",
       "      <td>Newell 341</td>\n",
       "      <td>8.56</td>\n",
       "      <td>2</td>\n",
       "      <td>0.0</td>\n",
       "      <td>2.48</td>\n",
       "      <td>1.580</td>\n",
       "      <td>High</td>\n",
       "    </tr>\n",
       "    <tr>\n",
       "      <th>51288</th>\n",
       "      <td>9596</td>\n",
       "      <td>MX-2013-RB1979518-41322</td>\n",
       "      <td>2013-02-17</td>\n",
       "      <td>2/21/13</td>\n",
       "      <td>Standard Class</td>\n",
       "      <td>RB-1979518</td>\n",
       "      <td>Ross Baird</td>\n",
       "      <td>Home Office</td>\n",
       "      <td>NaN</td>\n",
       "      <td>Valinhos</td>\n",
       "      <td>...</td>\n",
       "      <td>OFF-BI-2919</td>\n",
       "      <td>Office Supplies</td>\n",
       "      <td>Binders</td>\n",
       "      <td>Acco Index Tab, Economy</td>\n",
       "      <td>13.44</td>\n",
       "      <td>2</td>\n",
       "      <td>0.0</td>\n",
       "      <td>2.40</td>\n",
       "      <td>1.003</td>\n",
       "      <td>Medium</td>\n",
       "    </tr>\n",
       "    <tr>\n",
       "      <th>51289</th>\n",
       "      <td>6147</td>\n",
       "      <td>MX-2013-MC1810093-41416</td>\n",
       "      <td>2013-05-22</td>\n",
       "      <td>5/26/13</td>\n",
       "      <td>Second Class</td>\n",
       "      <td>MC-1810093</td>\n",
       "      <td>Mick Crebagga</td>\n",
       "      <td>Consumer</td>\n",
       "      <td>NaN</td>\n",
       "      <td>Tipitapa</td>\n",
       "      <td>...</td>\n",
       "      <td>OFF-PA-3990</td>\n",
       "      <td>Office Supplies</td>\n",
       "      <td>Paper</td>\n",
       "      <td>Eaton Computer Printout Paper, 8.5 x 11</td>\n",
       "      <td>61.38</td>\n",
       "      <td>3</td>\n",
       "      <td>0.0</td>\n",
       "      <td>1.80</td>\n",
       "      <td>1.002</td>\n",
       "      <td>High</td>\n",
       "    </tr>\n",
       "  </tbody>\n",
       "</table>\n",
       "<p>51290 rows × 24 columns</p>\n",
       "</div>"
      ],
      "text/plain": [
       "       Row.ID                  Order.ID Order.Date Ship.Date       Ship.Mode  \\\n",
       "0       40098  CA-2014-AB10015140-41954 2014-11-11  11/13/14     First Class   \n",
       "1       26341    IN-2014-JR162107-41675 2014-02-05    2/7/14    Second Class   \n",
       "2       25330    IN-2014-CR127307-41929 2014-10-17  10/18/14     First Class   \n",
       "3       13524   ES-2014-KM1637548-41667 2014-01-28   1/30/14     First Class   \n",
       "4       47221   SG-2014-RH9495111-41948 2014-11-05   11/6/14        Same Day   \n",
       "...       ...                       ...        ...       ...             ...   \n",
       "51285   29002   IN-2015-KE1642066-42174 2015-06-19   6/19/15        Same Day   \n",
       "51286   34337  US-2014-ZD21925140-41765 2014-05-06   5/10/14  Standard Class   \n",
       "51287   31315  CA-2012-ZD21925140-41147 2012-08-26   8/31/12    Second Class   \n",
       "51288    9596   MX-2013-RB1979518-41322 2013-02-17   2/21/13  Standard Class   \n",
       "51289    6147   MX-2013-MC1810093-41416 2013-05-22   5/26/13    Second Class   \n",
       "\n",
       "        Customer.ID       Customer.Name      Segment  Postal.Code  \\\n",
       "0      AB-100151402       Aaron Bergman     Consumer      73120.0   \n",
       "1         JR-162107       Justin Ritter    Corporate          NaN   \n",
       "2         CR-127307        Craig Reiter     Consumer          NaN   \n",
       "3        KM-1637548    Katherine Murray  Home Office          NaN   \n",
       "4        RH-9495111         Rick Hansen     Consumer          NaN   \n",
       "...             ...                 ...          ...          ...   \n",
       "51285    KE-1642066     Katrina Edelman    Corporate          NaN   \n",
       "51286  ZD-219251408  Zuschuss Donatelli     Consumer      37421.0   \n",
       "51287  ZD-219251404  Zuschuss Donatelli     Consumer      94109.0   \n",
       "51288    RB-1979518          Ross Baird  Home Office          NaN   \n",
       "51289    MC-1810093       Mick Crebagga     Consumer          NaN   \n",
       "\n",
       "                City  ...   Product.ID         Category Sub.Category  \\\n",
       "0      Oklahoma City  ...  TEC-PH-5816       Technology       Phones   \n",
       "1         Wollongong  ...  FUR-CH-5379        Furniture       Chairs   \n",
       "2           Brisbane  ...  TEC-PH-5356       Technology       Phones   \n",
       "3             Berlin  ...  TEC-PH-5267       Technology       Phones   \n",
       "4              Dakar  ...  TEC-CO-6011       Technology      Copiers   \n",
       "...              ...  ...          ...              ...          ...   \n",
       "51285           Kure  ...  OFF-FA-3072  Office Supplies    Fasteners   \n",
       "51286    Chattanooga  ...  FUR-FU-4070        Furniture  Furnishings   \n",
       "51287  San Francisco  ...  OFF-AR-5321  Office Supplies          Art   \n",
       "51288       Valinhos  ...  OFF-BI-2919  Office Supplies      Binders   \n",
       "51289       Tipitapa  ...  OFF-PA-3990  Office Supplies        Paper   \n",
       "\n",
       "                                        Product.Name    Sales Quantity  \\\n",
       "0                                   Samsung Convoy 3   221.98        2   \n",
       "1          Novimex Executive Leather Armchair, Black  3709.40        9   \n",
       "2                  Nokia Smart Phone, with Caller ID  5175.17        9   \n",
       "3                     Motorola Smart Phone, Cordless  2892.51        5   \n",
       "4                     Sharp Wireless Fax, High-Speed  2832.96        8   \n",
       "...                                              ...      ...      ...   \n",
       "51285                  Advantus Thumb Tacks, 12 Pack    65.10        5   \n",
       "51286  Eldon Image Series Desk Accessories, Burgundy    16.72        5   \n",
       "51287                                     Newell 341     8.56        2   \n",
       "51288                        Acco Index Tab, Economy    13.44        2   \n",
       "51289        Eaton Computer Printout Paper, 8.5 x 11    61.38        3   \n",
       "\n",
       "      Discount  Profit  Shipping.Cost  Order.Priority  \n",
       "0          0.0   62.15         40.770            High  \n",
       "1          0.1 -288.77        923.630        Critical  \n",
       "2          0.1  919.97        915.490          Medium  \n",
       "3          0.1  -96.54        910.160          Medium  \n",
       "4          0.0  311.52        903.040        Critical  \n",
       "...        ...     ...            ...             ...  \n",
       "51285      0.0    4.50          1.010          Medium  \n",
       "51286      0.2    3.34          1.930            High  \n",
       "51287      0.0    2.48          1.580            High  \n",
       "51288      0.0    2.40          1.003          Medium  \n",
       "51289      0.0    1.80          1.002            High  \n",
       "\n",
       "[51290 rows x 24 columns]"
      ]
     },
     "execution_count": 12,
=======
       "  </tbody>\n",
       "</table>\n",
       "<p>3 rows × 24 columns</p>\n",
       "</div>"
      ],
      "text/plain": [
       "   Row.ID                  Order.ID Order.Date Ship.Date     Ship.Mode  \\\n",
       "0   40098  CA-2014-AB10015140-41954 2014-11-11  11/13/14   First Class   \n",
       "1   26341    IN-2014-JR162107-41675 2014-02-05    2/7/14  Second Class   \n",
       "2   25330    IN-2014-CR127307-41929 2014-10-17  10/18/14   First Class   \n",
       "\n",
       "    Customer.ID  Customer.Name    Segment  Postal.Code           City  ...  \\\n",
       "0  AB-100151402  Aaron Bergman   Consumer      73120.0  Oklahoma City  ...   \n",
       "1     JR-162107  Justin Ritter  Corporate          NaN     Wollongong  ...   \n",
       "2     CR-127307   Craig Reiter   Consumer          NaN       Brisbane  ...   \n",
       "\n",
       "    Product.ID    Category Sub.Category  \\\n",
       "0  TEC-PH-5816  Technology       Phones   \n",
       "1  FUR-CH-5379   Furniture       Chairs   \n",
       "2  TEC-PH-5356  Technology       Phones   \n",
       "\n",
       "                                Product.Name    Sales Quantity Discount  \\\n",
       "0                           Samsung Convoy 3   221.98        2      0.0   \n",
       "1  Novimex Executive Leather Armchair, Black  3709.40        9      0.1   \n",
       "2          Nokia Smart Phone, with Caller ID  5175.17        9      0.1   \n",
       "\n",
       "   Profit  Shipping.Cost  Order.Priority  \n",
       "0   62.15          40.77            High  \n",
       "1 -288.77         923.63        Critical  \n",
       "2  919.97         915.49          Medium  \n",
       "\n",
       "[3 rows x 24 columns]"
      ]
     },
     "execution_count": 7,
>>>>>>> upstream/main
     "metadata": {},
     "output_type": "execute_result"
    }
   ],
   "source": [
<<<<<<< HEAD
    "orders['Order.Date'] = pd.to_datetime(orders['Order.Date'], format=\"%m/%d/%y\")\n",
    "orders"
=======
    "orders.head(3)"
>>>>>>> upstream/main
   ]
  },
  {
   "cell_type": "code",
<<<<<<< HEAD
   "execution_count": null,
   "metadata": {},
   "outputs": [],
   "source": [
    "orders.head()"
   ]
  },
  {
   "cell_type": "code",
   "execution_count": null,
   "metadata": {},
   "outputs": [],
   "source": [
    "orders[\"Order.Month\"] = pd.DatetimeIndex(orders[\"Order.Date\"]).month"
   ]
  },
  {
   "cell_type": "code",
   "execution_count": null,
   "metadata": {},
   "outputs": [],
   "source": [
    "orders.head()"
=======
   "execution_count": 8,
   "metadata": {},
   "outputs": [],
   "source": [
    "orders[\"Order.Month\"] = pd.DatetimeIndex(orders[\"Order.Date\"]).month\n",
    "orders[\"Order.Year\"] = pd.DatetimeIndex(orders[\"Order.Date\"]).year"
>>>>>>> upstream/main
   ]
  },
  {
   "cell_type": "code",
<<<<<<< HEAD
   "execution_count": null,
   "metadata": {},
=======
   "execution_count": 9,
   "metadata": {
    "scrolled": true
   },
>>>>>>> upstream/main
   "outputs": [],
   "source": [
    "num_years = len(orders[\"Order.Year\"].unique())"
   ]
  },
  {
   "cell_type": "code",
<<<<<<< HEAD
   "execution_count": null,
=======
   "execution_count": 10,
>>>>>>> upstream/main
   "metadata": {},
   "outputs": [],
   "source": [
    "orders = orders.sort_values(by = ['Order.Year','Order.Month'])"
   ]
  },
  {
   "cell_type": "code",
<<<<<<< HEAD
   "execution_count": null,
=======
   "execution_count": 11,
>>>>>>> upstream/main
   "metadata": {
    "scrolled": true
   },
<<<<<<< HEAD
   "outputs": [],
=======
   "outputs": [
    {
     "data": {
      "text/plain": [
       "Text(0.5, 1.0, 'avg quantity by month (4-year average)')"
      ]
     },
     "execution_count": 11,
     "metadata": {},
     "output_type": "execute_result"
    },
    {
     "data": {
      "image/png": "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\n",
      "text/plain": [
       "<Figure size 432x288 with 1 Axes>"
      ]
     },
     "metadata": {
      "needs_background": "light"
     },
     "output_type": "display_data"
    }
   ],
>>>>>>> upstream/main
   "source": [
    "import seaborn as sns\n",
    "order_group = orders.groupby(\"Order.Month\")[\"Quantity\"].sum().reset_index()\n",
    "order_group['Quantity'] = order_group['Quantity']/num_years\n",
    "sns.pointplot(order_group[\"Order.Month\"],\n",
    "              order_group[\"Quantity\"], \n",
    "              color=\"orange\").set_title('avg quantity by month (%i-year average)'%(num_years))"
   ]
  },
  {
   "cell_type": "markdown",
   "metadata": {},
   "source": [
    "notes: \n",
    "- overall avg quantity over the past 4 years seems to be in an upward trend from Jan to Dec. with a slump in July and Oct;\n",
    "- Feb is the slowest month on average, and Nov the highest"
   ]
  },
  {
   "cell_type": "code",
<<<<<<< HEAD
   "execution_count": null,
   "metadata": {
    "scrolled": false
   },
   "outputs": [],
=======
   "execution_count": 12,
   "metadata": {
    "scrolled": false
   },
   "outputs": [
    {
     "name": "stderr",
     "output_type": "stream",
     "text": [
      "C:\\Users\\aznan\\anaconda3\\lib\\site-packages\\ipykernel_launcher.py:2: FutureWarning: Indexing with multiple keys (implicitly converted to a tuple of keys) will be deprecated, use a list instead.\n",
      "  \n"
     ]
    },
    {
     "data": {
      "text/plain": [
       "Text(0.5, 1.0, 'avg quantity by category by month (4-year average)')"
      ]
     },
     "execution_count": 12,
     "metadata": {},
     "output_type": "execute_result"
    },
    {
     "data": {
      "image/png": "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\n",
      "text/plain": [
       "<Figure size 432x288 with 1 Axes>"
      ]
     },
     "metadata": {
      "needs_background": "light"
     },
     "output_type": "display_data"
    }
   ],
>>>>>>> upstream/main
   "source": [
    "order_group = orders.groupby(\"Order.Month\")[\"Quantity\"].sum().reset_index()\n",
    "order_group = orders.groupby([\"Order.Month\", \"Category\"])[\"Category\",\"Quantity\"].sum().reset_index()\n",
    "order_group['Quantity'] = order_group['Quantity']/num_years\n",
    "sns.lineplot(data = order_group, x = 'Order.Month', y = 'Quantity',\n",
    "             hue = 'Category').set_title('avg quantity by category by month (%i-year average)'%(num_years))"
   ]
  },
  {
   "cell_type": "markdown",
   "metadata": {},
   "source": [
    "notes:\n",
    "- office supplies are the main driver of the inventory trend\n",
    "- all category trends behave similar to each other "
   ]
  },
  {
   "cell_type": "code",
<<<<<<< HEAD
   "execution_count": null,
=======
   "execution_count": 13,
>>>>>>> upstream/main
   "metadata": {
    "scrolled": false
   },
<<<<<<< HEAD
   "outputs": [],
=======
   "outputs": [
    {
     "data": {
      "text/plain": [
       "<seaborn.axisgrid.FacetGrid at 0x171e85bc888>"
      ]
     },
     "execution_count": 13,
     "metadata": {},
     "output_type": "execute_result"
    },
    {
     "data": {
      "image/png": "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\n",
      "text/plain": [
       "<Figure size 974.875x216 with 4 Axes>"
      ]
     },
     "metadata": {
      "needs_background": "light"
     },
     "output_type": "display_data"
    }
   ],
>>>>>>> upstream/main
   "source": [
    "order_group = orders.groupby([\"Order.Month\", \"Order.Year\", \"Category\"])[\"Quantity\"].sum().reset_index()\n",
    "order_group_fig = sns.FacetGrid(order_group, col=\"Order.Year\", hue=\"Category\")\n",
    "order_group_fig.map_dataframe(sns.lineplot, x=\"Order.Month\", y=\"Quantity\")\n",
    "order_group_fig.set_axis_labels(\"month\", \"total quantity\")\n",
    "order_group_fig.add_legend()"
   ]
  },
  {
   "cell_type": "markdown",
   "metadata": {},
   "source": [
    "notes:\n",
    "- trends are similar across all four years\n",
    "- quantities sold increased every year 2012-2015"
   ]
  },
  {
   "cell_type": "code",
<<<<<<< HEAD
   "execution_count": null,
   "metadata": {},
   "outputs": [],
   "source": []
  },
  {
   "cell_type": "code",
   "execution_count": null,
   "metadata": {},
   "outputs": [],
   "source": [
    "import plotly.express as px\n",
    "order_ = orders.groupby(['Category','Order.Year','Order.Month'])['Quantity'].sum().reset_index()\n",
    "fig = px.line(order_test,x = 'Order.Month',y = 'Quantity',facet_col = 'Order.Year',facet_col_wrap = 2, color = 'Category')\n",
    "fig.show()\n"
=======
   "execution_count": 14,
   "metadata": {},
   "outputs": [],
   "source": [
    "# alternative plotting method using plotly.express\n",
    "# import plotly.express as px\n",
    "# order_test = pd.DataFrame(orders.groupby(['Category','Order.Year','Order.Month'])['Quantity'].sum()).reset_index()\n",
    "# fig = px.line(order_test,x = 'Order.Month',y = 'Quantity', facet_col = 'Order.Year', color = 'Category', width = 1200)\n",
    "# fig.show()"
>>>>>>> upstream/main
   ]
  },
  {
   "cell_type": "markdown",
   "metadata": {},
   "source": [
    "Problem 3: Why did customers make returns?\n",
    "- Your manager required you to give a brief report (**Plots + Interpretations**) on returned orders.\n",
    "    1. How much profit did we lose due to returns each year?\n",
    "    2. How many customer returned more than once? more than 5 times?\n",
    "    3. Which regions are more likely to return orders?\n",
    "    4. Which categories (sub-categories) of products are more likely to be returned?\n",
    "\n",
    "- ***Hint:*** Merge the **Returns** dataframe with the **Orders** dataframe using `Order.ID`."
   ]
  },
  {
   "cell_type": "code",
<<<<<<< HEAD
   "execution_count": null,
   "metadata": {},
   "outputs": [],
   "source": [
    "len(orders['Order.ID'].unique())"
   ]
  },
  {
   "cell_type": "code",
   "execution_count": null,
   "metadata": {},
   "outputs": [],
   "source": [
    "orders.shape"
   ]
  },
  {
   "cell_type": "code",
   "execution_count": null,
   "metadata": {
    "scrolled": true
   },
   "outputs": [],
=======
   "execution_count": 15,
   "metadata": {},
   "outputs": [
    {
     "data": {
      "text/html": [
       "<div>\n",
       "<style scoped>\n",
       "    .dataframe tbody tr th:only-of-type {\n",
       "        vertical-align: middle;\n",
       "    }\n",
       "\n",
       "    .dataframe tbody tr th {\n",
       "        vertical-align: top;\n",
       "    }\n",
       "\n",
       "    .dataframe thead th {\n",
       "        text-align: right;\n",
       "    }\n",
       "</style>\n",
       "<table border=\"1\" class=\"dataframe\">\n",
       "  <thead>\n",
       "    <tr style=\"text-align: right;\">\n",
       "      <th></th>\n",
       "      <th>Returned</th>\n",
       "      <th>Order ID</th>\n",
       "      <th>Region</th>\n",
       "    </tr>\n",
       "  </thead>\n",
       "  <tbody>\n",
       "    <tr>\n",
       "      <th>0</th>\n",
       "      <td>Yes</td>\n",
       "      <td>CA-2012-SA20830140-41210</td>\n",
       "      <td>Central US</td>\n",
       "    </tr>\n",
       "    <tr>\n",
       "      <th>1</th>\n",
       "      <td>Yes</td>\n",
       "      <td>IN-2012-PB19210127-41259</td>\n",
       "      <td>Eastern Asia</td>\n",
       "    </tr>\n",
       "    <tr>\n",
       "      <th>2</th>\n",
       "      <td>Yes</td>\n",
       "      <td>CA-2012-SC20095140-41174</td>\n",
       "      <td>Central US</td>\n",
       "    </tr>\n",
       "  </tbody>\n",
       "</table>\n",
       "</div>"
      ],
      "text/plain": [
       "  Returned                  Order ID        Region\n",
       "0      Yes  CA-2012-SA20830140-41210    Central US\n",
       "1      Yes  IN-2012-PB19210127-41259  Eastern Asia\n",
       "2      Yes  CA-2012-SC20095140-41174    Central US"
      ]
     },
     "execution_count": 15,
     "metadata": {},
     "output_type": "execute_result"
    }
   ],
>>>>>>> upstream/main
   "source": [
    "returns.head(3)"
   ]
  },
  {
   "cell_type": "code",
<<<<<<< HEAD
   "execution_count": null,
   "metadata": {},
   "outputs": [],
   "source": [
    "combined = pd.merge(orders, returns, left_on = ['Order.ID', 'Region'], right_on = ['Order ID', 'Region'], how = 'left')"
   ]
  },
  {
   "cell_type": "code",
   "execution_count": null,
   "metadata": {},
   "outputs": [],
   "source": [
    "pd.DataFrame(combined.groupby(['Order.Year', 'Returned'])['Profit'].sum()).reset_index()"
=======
   "execution_count": 16,
   "metadata": {},
   "outputs": [
    {
     "data": {
      "text/plain": [
       "25728"
      ]
     },
     "execution_count": 16,
     "metadata": {},
     "output_type": "execute_result"
    }
   ],
   "source": [
    "len(orders['Order.ID'].unique())"
>>>>>>> upstream/main
   ]
  },
  {
   "cell_type": "code",
<<<<<<< HEAD
   "execution_count": null,
   "metadata": {},
   "outputs": [],
   "source": [
    "orders_returned = pd.DataFrame(combined.loc[combined['Returned']=='Yes'].groupby('Customer.ID')['Returned'].count()).reset_index()"
=======
   "execution_count": 17,
   "metadata": {},
   "outputs": [
    {
     "data": {
      "text/plain": [
       "(51290, 26)"
      ]
     },
     "execution_count": 17,
     "metadata": {},
     "output_type": "execute_result"
    }
   ],
   "source": [
    "orders.shape"
>>>>>>> upstream/main
   ]
  },
  {
   "cell_type": "code",
<<<<<<< HEAD
   "execution_count": null,
   "metadata": {},
   "outputs": [],
   "source": [
    "orders_returned.loc[orders_returned['Returned'] > 1, ]"
=======
   "execution_count": 18,
   "metadata": {},
   "outputs": [
    {
     "data": {
      "text/html": [
       "<div>\n",
       "<style scoped>\n",
       "    .dataframe tbody tr th:only-of-type {\n",
       "        vertical-align: middle;\n",
       "    }\n",
       "\n",
       "    .dataframe tbody tr th {\n",
       "        vertical-align: top;\n",
       "    }\n",
       "\n",
       "    .dataframe thead th {\n",
       "        text-align: right;\n",
       "    }\n",
       "</style>\n",
       "<table border=\"1\" class=\"dataframe\">\n",
       "  <thead>\n",
       "    <tr style=\"text-align: right;\">\n",
       "      <th></th>\n",
       "      <th>Row.ID</th>\n",
       "      <th>Order.ID</th>\n",
       "      <th>Order.Date</th>\n",
       "      <th>Ship.Date</th>\n",
       "      <th>Ship.Mode</th>\n",
       "      <th>Customer.ID</th>\n",
       "      <th>Customer.Name</th>\n",
       "      <th>Segment</th>\n",
       "      <th>Postal.Code</th>\n",
       "      <th>City</th>\n",
       "      <th>...</th>\n",
       "      <th>Sales</th>\n",
       "      <th>Quantity</th>\n",
       "      <th>Discount</th>\n",
       "      <th>Profit</th>\n",
       "      <th>Shipping.Cost</th>\n",
       "      <th>Order.Priority</th>\n",
       "      <th>Order.Month</th>\n",
       "      <th>Order.Year</th>\n",
       "      <th>Returned</th>\n",
       "      <th>Order ID</th>\n",
       "    </tr>\n",
       "  </thead>\n",
       "  <tbody>\n",
       "    <tr>\n",
       "      <th>0</th>\n",
       "      <td>28046</td>\n",
       "      <td>IN-2012-DL128657-40918</td>\n",
       "      <td>2012-01-10</td>\n",
       "      <td>1/11/12</td>\n",
       "      <td>First Class</td>\n",
       "      <td>DL-128657</td>\n",
       "      <td>Dan Lawera</td>\n",
       "      <td>Consumer</td>\n",
       "      <td>NaN</td>\n",
       "      <td>Brisbane</td>\n",
       "      <td>...</td>\n",
       "      <td>2875.10</td>\n",
       "      <td>5</td>\n",
       "      <td>0.1</td>\n",
       "      <td>511.10</td>\n",
       "      <td>665.270</td>\n",
       "      <td>Medium</td>\n",
       "      <td>1</td>\n",
       "      <td>2012</td>\n",
       "      <td>NaN</td>\n",
       "      <td>NaN</td>\n",
       "    </tr>\n",
       "    <tr>\n",
       "      <th>1</th>\n",
       "      <td>50724</td>\n",
       "      <td>AO-2012-HZ49504-40916</td>\n",
       "      <td>2012-01-08</td>\n",
       "      <td>1/13/12</td>\n",
       "      <td>Standard Class</td>\n",
       "      <td>HZ-49504</td>\n",
       "      <td>Henia Zydlo</td>\n",
       "      <td>Consumer</td>\n",
       "      <td>NaN</td>\n",
       "      <td>Benguela</td>\n",
       "      <td>...</td>\n",
       "      <td>2478.60</td>\n",
       "      <td>6</td>\n",
       "      <td>0.0</td>\n",
       "      <td>49.50</td>\n",
       "      <td>349.870</td>\n",
       "      <td>High</td>\n",
       "      <td>1</td>\n",
       "      <td>2012</td>\n",
       "      <td>NaN</td>\n",
       "      <td>NaN</td>\n",
       "    </tr>\n",
       "    <tr>\n",
       "      <th>2</th>\n",
       "      <td>6826</td>\n",
       "      <td>MX-2012-HL1504093-40929</td>\n",
       "      <td>2012-01-21</td>\n",
       "      <td>1/27/12</td>\n",
       "      <td>Standard Class</td>\n",
       "      <td>HL-1504093</td>\n",
       "      <td>Hunter Lopez</td>\n",
       "      <td>Consumer</td>\n",
       "      <td>NaN</td>\n",
       "      <td>Managua</td>\n",
       "      <td>...</td>\n",
       "      <td>2797.25</td>\n",
       "      <td>6</td>\n",
       "      <td>0.2</td>\n",
       "      <td>-0.07</td>\n",
       "      <td>320.376</td>\n",
       "      <td>Low</td>\n",
       "      <td>1</td>\n",
       "      <td>2012</td>\n",
       "      <td>NaN</td>\n",
       "      <td>NaN</td>\n",
       "    </tr>\n",
       "  </tbody>\n",
       "</table>\n",
       "<p>3 rows × 28 columns</p>\n",
       "</div>"
      ],
      "text/plain": [
       "   Row.ID                 Order.ID Order.Date Ship.Date       Ship.Mode  \\\n",
       "0   28046   IN-2012-DL128657-40918 2012-01-10   1/11/12     First Class   \n",
       "1   50724    AO-2012-HZ49504-40916 2012-01-08   1/13/12  Standard Class   \n",
       "2    6826  MX-2012-HL1504093-40929 2012-01-21   1/27/12  Standard Class   \n",
       "\n",
       "  Customer.ID Customer.Name   Segment  Postal.Code      City  ...    Sales  \\\n",
       "0   DL-128657    Dan Lawera  Consumer          NaN  Brisbane  ...  2875.10   \n",
       "1    HZ-49504   Henia Zydlo  Consumer          NaN  Benguela  ...  2478.60   \n",
       "2  HL-1504093  Hunter Lopez  Consumer          NaN   Managua  ...  2797.25   \n",
       "\n",
       "  Quantity Discount  Profit Shipping.Cost Order.Priority Order.Month  \\\n",
       "0        5      0.1  511.10       665.270         Medium           1   \n",
       "1        6      0.0   49.50       349.870           High           1   \n",
       "2        6      0.2   -0.07       320.376            Low           1   \n",
       "\n",
       "  Order.Year  Returned  Order ID  \n",
       "0       2012       NaN       NaN  \n",
       "1       2012       NaN       NaN  \n",
       "2       2012       NaN       NaN  \n",
       "\n",
       "[3 rows x 28 columns]"
      ]
     },
     "execution_count": 18,
     "metadata": {},
     "output_type": "execute_result"
    }
   ],
   "source": [
    "combined = pd.merge(orders, returns,\n",
    "                    left_on = ['Order.ID', 'Region'], right_on = ['Order ID', 'Region'],\n",
    "                    how = 'left')\n",
    "combined.head(3)"
   ]
  },
  {
   "cell_type": "code",
   "execution_count": 19,
   "metadata": {
    "scrolled": true
   },
   "outputs": [
    {
     "data": {
      "text/html": [
       "<div>\n",
       "<style scoped>\n",
       "    .dataframe tbody tr th:only-of-type {\n",
       "        vertical-align: middle;\n",
       "    }\n",
       "\n",
       "    .dataframe tbody tr th {\n",
       "        vertical-align: top;\n",
       "    }\n",
       "\n",
       "    .dataframe thead th {\n",
       "        text-align: right;\n",
       "    }\n",
       "</style>\n",
       "<table border=\"1\" class=\"dataframe\">\n",
       "  <thead>\n",
       "    <tr style=\"text-align: right;\">\n",
       "      <th></th>\n",
       "      <th>Order.Year</th>\n",
       "      <th>Returned</th>\n",
       "      <th>Profit</th>\n",
       "    </tr>\n",
       "  </thead>\n",
       "  <tbody>\n",
       "    <tr>\n",
       "      <th>0</th>\n",
       "      <td>2012</td>\n",
       "      <td>Yes</td>\n",
       "      <td>17396.86</td>\n",
       "    </tr>\n",
       "    <tr>\n",
       "      <th>1</th>\n",
       "      <td>2013</td>\n",
       "      <td>Yes</td>\n",
       "      <td>9077.77</td>\n",
       "    </tr>\n",
       "    <tr>\n",
       "      <th>2</th>\n",
       "      <td>2014</td>\n",
       "      <td>Yes</td>\n",
       "      <td>17180.12</td>\n",
       "    </tr>\n",
       "    <tr>\n",
       "      <th>3</th>\n",
       "      <td>2015</td>\n",
       "      <td>Yes</td>\n",
       "      <td>17114.50</td>\n",
       "    </tr>\n",
       "  </tbody>\n",
       "</table>\n",
       "</div>"
      ],
      "text/plain": [
       "   Order.Year Returned    Profit\n",
       "0        2012      Yes  17396.86\n",
       "1        2013      Yes   9077.77\n",
       "2        2014      Yes  17180.12\n",
       "3        2015      Yes  17114.50"
      ]
     },
     "execution_count": 19,
     "metadata": {},
     "output_type": "execute_result"
    }
   ],
   "source": [
    "# 1. profit lost\n",
    "pd.DataFrame(combined.groupby(['Order.Year', 'Returned'])['Profit'].sum()).reset_index()"
>>>>>>> upstream/main
   ]
  },
  {
   "cell_type": "code",
<<<<<<< HEAD
   "execution_count": null,
   "metadata": {},
   "outputs": [],
   "source": [
    "orders_returned.loc[orders_returned['Returned'] > 5, ].reset_index(drop = True)"
=======
   "execution_count": 20,
   "metadata": {},
   "outputs": [
    {
     "data": {
      "text/html": [
       "<div>\n",
       "<style scoped>\n",
       "    .dataframe tbody tr th:only-of-type {\n",
       "        vertical-align: middle;\n",
       "    }\n",
       "\n",
       "    .dataframe tbody tr th {\n",
       "        vertical-align: top;\n",
       "    }\n",
       "\n",
       "    .dataframe thead th {\n",
       "        text-align: right;\n",
       "    }\n",
       "</style>\n",
       "<table border=\"1\" class=\"dataframe\">\n",
       "  <thead>\n",
       "    <tr style=\"text-align: right;\">\n",
       "      <th></th>\n",
       "      <th>Customer.ID</th>\n",
       "      <th>Order.ID</th>\n",
       "    </tr>\n",
       "  </thead>\n",
       "  <tbody>\n",
       "    <tr>\n",
       "      <th>0</th>\n",
       "      <td>AA-1031558</td>\n",
       "      <td>1</td>\n",
       "    </tr>\n",
       "    <tr>\n",
       "      <th>1</th>\n",
       "      <td>AA-106451404</td>\n",
       "      <td>1</td>\n",
       "    </tr>\n",
       "    <tr>\n",
       "      <th>2</th>\n",
       "      <td>AA-1064559</td>\n",
       "      <td>1</td>\n",
       "    </tr>\n",
       "  </tbody>\n",
       "</table>\n",
       "</div>"
      ],
      "text/plain": [
       "    Customer.ID  Order.ID\n",
       "0    AA-1031558         1\n",
       "1  AA-106451404         1\n",
       "2    AA-1064559         1"
      ]
     },
     "execution_count": 20,
     "metadata": {},
     "output_type": "execute_result"
    }
   ],
   "source": [
    "orders_returned = pd.DataFrame(combined.loc[combined['Returned']=='Yes'].groupby(['Customer.ID'])['Order.ID'].nunique()).reset_index()\n",
    "orders_returned.head(3)"
>>>>>>> upstream/main
   ]
  },
  {
   "cell_type": "code",
<<<<<<< HEAD
   "execution_count": null,
   "metadata": {},
   "outputs": [],
   "source": [
    "orders_returned_region = pd.DataFrame(combined.loc[combined['Returned']=='Yes'].groupby('Region')['Returned'].count()).reset_index()"
=======
   "execution_count": 21,
   "metadata": {},
   "outputs": [
    {
     "data": {
      "text/plain": [
       "20"
      ]
     },
     "execution_count": 21,
     "metadata": {},
     "output_type": "execute_result"
    }
   ],
   "source": [
    "# 2. number of clients returned more than once\n",
    "len(orders_returned.loc[orders_returned['Order.ID'] > 1, ])"
>>>>>>> upstream/main
   ]
  },
  {
   "cell_type": "code",
<<<<<<< HEAD
   "execution_count": null,
   "metadata": {},
   "outputs": [],
   "source": [
    "orders_returned_total = pd.DataFrame(combined.groupby('Region')['Row.ID'].count()).reset_index()"
=======
   "execution_count": 22,
   "metadata": {},
   "outputs": [
    {
     "data": {
      "text/plain": [
       "0"
      ]
     },
     "execution_count": 22,
     "metadata": {},
     "output_type": "execute_result"
    }
   ],
   "source": [
    "# 2. number of clients returned more than 5 times\n",
    "len(orders_returned.loc[orders_returned['Order.ID'] > 5, ])"
>>>>>>> upstream/main
   ]
  },
  {
   "cell_type": "code",
<<<<<<< HEAD
   "execution_count": null,
   "metadata": {},
   "outputs": [],
=======
   "execution_count": 23,
   "metadata": {},
   "outputs": [],
   "source": [
    "orders_region_returned = pd.DataFrame(combined.loc[combined['Returned']=='Yes'].groupby(['Region'])['Order.ID'].nunique()).reset_index()\n",
    "orders_region_total = pd.DataFrame(combined.groupby(['Region'])['Order.ID'].nunique()).reset_index()"
   ]
  },
  {
   "cell_type": "code",
   "execution_count": 24,
   "metadata": {
    "scrolled": true
   },
   "outputs": [
    {
     "data": {
      "text/html": [
       "<div>\n",
       "<style scoped>\n",
       "    .dataframe tbody tr th:only-of-type {\n",
       "        vertical-align: middle;\n",
       "    }\n",
       "\n",
       "    .dataframe tbody tr th {\n",
       "        vertical-align: top;\n",
       "    }\n",
       "\n",
       "    .dataframe thead th {\n",
       "        text-align: right;\n",
       "    }\n",
       "</style>\n",
       "<table border=\"1\" class=\"dataframe\">\n",
       "  <thead>\n",
       "    <tr style=\"text-align: right;\">\n",
       "      <th></th>\n",
       "      <th>Region</th>\n",
       "      <th>Order.ID_returned</th>\n",
       "      <th>Order.ID_total</th>\n",
       "    </tr>\n",
       "  </thead>\n",
       "  <tbody>\n",
       "    <tr>\n",
       "      <th>0</th>\n",
       "      <td>Caribbean</td>\n",
       "      <td>31</td>\n",
       "      <td>856</td>\n",
       "    </tr>\n",
       "    <tr>\n",
       "      <th>1</th>\n",
       "      <td>Central Africa</td>\n",
       "      <td>10</td>\n",
       "      <td>333</td>\n",
       "    </tr>\n",
       "    <tr>\n",
       "      <th>2</th>\n",
       "      <td>Central America</td>\n",
       "      <td>117</td>\n",
       "      <td>2831</td>\n",
       "    </tr>\n",
       "  </tbody>\n",
       "</table>\n",
       "</div>"
      ],
      "text/plain": [
       "            Region  Order.ID_returned  Order.ID_total\n",
       "0        Caribbean                 31             856\n",
       "1   Central Africa                 10             333\n",
       "2  Central America                117            2831"
      ]
     },
     "execution_count": 24,
     "metadata": {},
     "output_type": "execute_result"
    }
   ],
>>>>>>> upstream/main
   "source": [
    "orders_region_p = pd.merge(orders_region_returned, orders_region_total,\n",
    "                           how = 'inner', on = 'Region', suffixes=('_returned', '_total'))\n",
    "orders_region_p.head(3)"
   ]
  },
  {
   "cell_type": "code",
<<<<<<< HEAD
   "execution_count": null,
   "metadata": {},
   "outputs": [],
   "source": [
    "orders_category = pd.DataFrame(combined.loc[combined['Returned']=='Yes'].groupby('Sub.Category')['Returned'].count()).reset_index()"
   ]
  },
  {
   "cell_type": "code",
   "execution_count": null,
   "metadata": {},
   "outputs": [],
=======
   "execution_count": 25,
   "metadata": {},
   "outputs": [
    {
     "data": {
      "text/html": [
       "<div>\n",
       "<style scoped>\n",
       "    .dataframe tbody tr th:only-of-type {\n",
       "        vertical-align: middle;\n",
       "    }\n",
       "\n",
       "    .dataframe tbody tr th {\n",
       "        vertical-align: top;\n",
       "    }\n",
       "\n",
       "    .dataframe thead th {\n",
       "        text-align: right;\n",
       "    }\n",
       "</style>\n",
       "<table border=\"1\" class=\"dataframe\">\n",
       "  <thead>\n",
       "    <tr style=\"text-align: right;\">\n",
       "      <th></th>\n",
       "      <th>Region</th>\n",
       "      <th>Order.ID_returned</th>\n",
       "      <th>Order.ID_total</th>\n",
       "      <th>percent</th>\n",
       "    </tr>\n",
       "  </thead>\n",
       "  <tbody>\n",
       "    <tr>\n",
       "      <th>0</th>\n",
       "      <td>Southern US</td>\n",
       "      <td>44</td>\n",
       "      <td>822</td>\n",
       "      <td>0.053528</td>\n",
       "    </tr>\n",
       "    <tr>\n",
       "      <th>1</th>\n",
       "      <td>Southern Europe</td>\n",
       "      <td>55</td>\n",
       "      <td>1098</td>\n",
       "      <td>0.050091</td>\n",
       "    </tr>\n",
       "    <tr>\n",
       "      <th>2</th>\n",
       "      <td>Eastern US</td>\n",
       "      <td>69</td>\n",
       "      <td>1401</td>\n",
       "      <td>0.049251</td>\n",
       "    </tr>\n",
       "    <tr>\n",
       "      <th>3</th>\n",
       "      <td>Southern Africa</td>\n",
       "      <td>11</td>\n",
       "      <td>241</td>\n",
       "      <td>0.045643</td>\n",
       "    </tr>\n",
       "    <tr>\n",
       "      <th>4</th>\n",
       "      <td>Eastern Asia</td>\n",
       "      <td>53</td>\n",
       "      <td>1162</td>\n",
       "      <td>0.045611</td>\n",
       "    </tr>\n",
       "  </tbody>\n",
       "</table>\n",
       "</div>"
      ],
      "text/plain": [
       "            Region  Order.ID_returned  Order.ID_total   percent\n",
       "0      Southern US                 44             822  0.053528\n",
       "1  Southern Europe                 55            1098  0.050091\n",
       "2       Eastern US                 69            1401  0.049251\n",
       "3  Southern Africa                 11             241  0.045643\n",
       "4     Eastern Asia                 53            1162  0.045611"
      ]
     },
     "execution_count": 25,
     "metadata": {},
     "output_type": "execute_result"
    }
   ],
>>>>>>> upstream/main
   "source": [
    "# 3. regions by percent of orders returned\n",
    "orders_region_p['percent'] = orders_region_p['Order.ID_returned']/orders_region_p['Order.ID_total']\n",
    "orders_region_p.sort_values('percent', ascending = False).reset_index(drop = True).head()"
   ]
  },
  {
   "cell_type": "code",
   "execution_count": 26,
   "metadata": {},
   "outputs": [],
   "source": [
    "orders_category_returned = pd.DataFrame(combined.loc[combined['Returned']=='Yes'].groupby(['Sub.Category'])['Order.ID'].nunique()).reset_index()\n",
    "orders_category_total = pd.DataFrame(combined.groupby(['Sub.Category'])['Order.ID'].nunique()).reset_index()"
   ]
  },
  {
   "cell_type": "code",
<<<<<<< HEAD
   "execution_count": null,
   "metadata": {},
   "outputs": [],
=======
   "execution_count": 27,
   "metadata": {},
   "outputs": [
    {
     "data": {
      "text/html": [
       "<div>\n",
       "<style scoped>\n",
       "    .dataframe tbody tr th:only-of-type {\n",
       "        vertical-align: middle;\n",
       "    }\n",
       "\n",
       "    .dataframe tbody tr th {\n",
       "        vertical-align: top;\n",
       "    }\n",
       "\n",
       "    .dataframe thead th {\n",
       "        text-align: right;\n",
       "    }\n",
       "</style>\n",
       "<table border=\"1\" class=\"dataframe\">\n",
       "  <thead>\n",
       "    <tr style=\"text-align: right;\">\n",
       "      <th></th>\n",
       "      <th>Sub.Category</th>\n",
       "      <th>Order.ID_returned</th>\n",
       "      <th>Order.ID_total</th>\n",
       "    </tr>\n",
       "  </thead>\n",
       "  <tbody>\n",
       "    <tr>\n",
       "      <th>0</th>\n",
       "      <td>Accessories</td>\n",
       "      <td>128</td>\n",
       "      <td>2893</td>\n",
       "    </tr>\n",
       "    <tr>\n",
       "      <th>1</th>\n",
       "      <td>Appliances</td>\n",
       "      <td>59</td>\n",
       "      <td>1676</td>\n",
       "    </tr>\n",
       "    <tr>\n",
       "      <th>2</th>\n",
       "      <td>Art</td>\n",
       "      <td>186</td>\n",
       "      <td>4394</td>\n",
       "    </tr>\n",
       "  </tbody>\n",
       "</table>\n",
       "</div>"
      ],
      "text/plain": [
       "  Sub.Category  Order.ID_returned  Order.ID_total\n",
       "0  Accessories                128            2893\n",
       "1   Appliances                 59            1676\n",
       "2          Art                186            4394"
      ]
     },
     "execution_count": 27,
     "metadata": {},
     "output_type": "execute_result"
    }
   ],
>>>>>>> upstream/main
   "source": [
    "orders_category_p = pd.merge(orders_category_returned, orders_category_total,\n",
    "                           how = 'inner', on = 'Sub.Category', suffixes=('_returned', '_total'))\n",
    "orders_category_p.head(3)"
   ]
  },
  {
   "cell_type": "code",
<<<<<<< HEAD
   "execution_count": null,
   "metadata": {},
   "outputs": [],
=======
   "execution_count": 28,
   "metadata": {},
   "outputs": [
    {
     "data": {
      "text/html": [
       "<div>\n",
       "<style scoped>\n",
       "    .dataframe tbody tr th:only-of-type {\n",
       "        vertical-align: middle;\n",
       "    }\n",
       "\n",
       "    .dataframe tbody tr th {\n",
       "        vertical-align: top;\n",
       "    }\n",
       "\n",
       "    .dataframe thead th {\n",
       "        text-align: right;\n",
       "    }\n",
       "</style>\n",
       "<table border=\"1\" class=\"dataframe\">\n",
       "  <thead>\n",
       "    <tr style=\"text-align: right;\">\n",
       "      <th></th>\n",
       "      <th>Sub.Category</th>\n",
       "      <th>Order.ID_returned</th>\n",
       "      <th>Order.ID_total</th>\n",
       "      <th>percent</th>\n",
       "    </tr>\n",
       "  </thead>\n",
       "  <tbody>\n",
       "    <tr>\n",
       "      <th>0</th>\n",
       "      <td>Labels</td>\n",
       "      <td>125</td>\n",
       "      <td>2460</td>\n",
       "      <td>0.050813</td>\n",
       "    </tr>\n",
       "    <tr>\n",
       "      <th>1</th>\n",
       "      <td>Tables</td>\n",
       "      <td>38</td>\n",
       "      <td>835</td>\n",
       "      <td>0.045509</td>\n",
       "    </tr>\n",
       "    <tr>\n",
       "      <th>2</th>\n",
       "      <td>Accessories</td>\n",
       "      <td>128</td>\n",
       "      <td>2893</td>\n",
       "      <td>0.044245</td>\n",
       "    </tr>\n",
       "    <tr>\n",
       "      <th>3</th>\n",
       "      <td>Copiers</td>\n",
       "      <td>93</td>\n",
       "      <td>2124</td>\n",
       "      <td>0.043785</td>\n",
       "    </tr>\n",
       "    <tr>\n",
       "      <th>4</th>\n",
       "      <td>Binders</td>\n",
       "      <td>233</td>\n",
       "      <td>5432</td>\n",
       "      <td>0.042894</td>\n",
       "    </tr>\n",
       "  </tbody>\n",
       "</table>\n",
       "</div>"
      ],
      "text/plain": [
       "  Sub.Category  Order.ID_returned  Order.ID_total   percent\n",
       "0       Labels                125            2460  0.050813\n",
       "1       Tables                 38             835  0.045509\n",
       "2  Accessories                128            2893  0.044245\n",
       "3      Copiers                 93            2124  0.043785\n",
       "4      Binders                233            5432  0.042894"
      ]
     },
     "execution_count": 28,
     "metadata": {},
     "output_type": "execute_result"
    }
   ],
>>>>>>> upstream/main
   "source": [
    "# 4. subcategory by percent of orders returned\n",
    "orders_category_p['percent'] = orders_category_p['Order.ID_returned']/orders_category_p['Order.ID_total']\n",
    "orders_category_p.sort_values('percent', ascending = False).reset_index(drop = True).head()"
   ]
  },
  {
   "cell_type": "code",
   "execution_count": null,
   "metadata": {},
   "outputs": [],
   "source": []
  }
 ],
 "metadata": {
  "kernelspec": {
   "display_name": "Python 3",
   "language": "python",
   "name": "python3"
  },
  "language_info": {
   "codemirror_mode": {
    "name": "ipython",
    "version": 3
   },
   "file_extension": ".py",
   "mimetype": "text/x-python",
   "name": "python",
   "nbconvert_exporter": "python",
   "pygments_lexer": "ipython3",
   "version": "3.7.6"
  }
 },
 "nbformat": 4,
 "nbformat_minor": 4
}
